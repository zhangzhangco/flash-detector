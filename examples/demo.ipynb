{
 "cells": [
  {
   "cell_type": "markdown",
   "metadata": {},
   "source": [
    "# 视频闪光检测工具示例"
   ]
  },
  {
   "cell_type": "code",
   "execution_count": null,
   "metadata": {},
   "source": [
    "import sys\n",
    "sys.path.append('../')\n",
    "from flash_detector.core.detector import FlashDetectorBuffer\n",
    "# ... [示例代码]"
   ]
  }
 ]
}
