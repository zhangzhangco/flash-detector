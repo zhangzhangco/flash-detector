{
 "cells": [
  {
   "cell_type": "markdown",
   "metadata": {},
   "source": [
    "# 视频闪光检测工具示例"
   ]
  },
  {
   "cell_type": "code",
   "execution_count": null,
   "metadata": {},
   "source": [
    "import sys\n",
    "sys.path.append('../')\n",
    "from flash_detector.core.detector import FlashDetectorBuffer\n",
    "from flash_detector.core.utils import time_str_to_seconds, format_time\n",
    "import cv2\n",
    "import numpy as np"
   ]
  },
  {
   "cell_type": "markdown",
   "metadata": {},
   "source": [
    "## 基本使用示例"
   ]
  },
  {
   "cell_type": "code",
   "execution_count": null,
   "metadata": {},
   "source": [
    "# 创建检测器实例\n",
    "detector = FlashDetectorBuffer(\n",
    "    buffer_size=5,\n",
    "    region_size=20,\n",
    "    diff_threshold=30\n",
    ")\n",
    "\n",
    "# 打开视频文件\n",
    "video_path = 'sample_videos/test.mp4'\n",
    "cap = cv2.VideoCapture(video_path)\n",
    "\n",
    "# 处理视频帧\n",
    "frame_count = 0\n",
    "while cap.isOpened():\n",
    "    ret, frame = cap.read()\n",
    "    if not ret:\n",
    "        break\n",
    "        \n",
    "    # 检测闪光\n",
    "    result = detector.process_frame(frame, frame_count)\n",
    "    if result:\n",
    "        print(f\"检测到闪光！帧号：{frame_count}\")\n",
    "        print(f\"位置：{result['position']}\")\n",
    "        print(f\"强度：{result['intensity']}\")\n",
    "    \n",
    "    frame_count += 1\n",
    "\n",
    "cap.release()"
   ]
  }
 ]
}